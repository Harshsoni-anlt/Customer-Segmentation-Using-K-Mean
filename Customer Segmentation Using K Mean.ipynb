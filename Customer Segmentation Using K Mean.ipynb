{
 "cells": [
  {
   "cell_type": "markdown",
   "metadata": {
    "id": "iIDXUkMElkDd"
   },
   "source": [
    "# Customer Segmentation Using K Means Clustering"
   ]
  },
  {
   "cell_type": "markdown",
   "metadata": {},
   "source": [
    "Customer segmentation is a useful tool for identifying unmet customer demands. Companies can utilise this method to surpass the competition by creating products and services that are uniquely appealing."
   ]
  },
  {
   "cell_type": "markdown",
   "metadata": {},
   "source": [
    "The following are the most frequent ways that firms divide their customer base:<br>\n",
    "**Demographic information**- Gender, age, marital and familial status, income, education, and employment are all examples of     demographic data.<br>\n",
    "**Geographical information**- that varies based on the company's scope. This information may apply to specific towns or counties for localised companies. It might be a customer's location, state, or even nation of residency for larger firms.<br>\n",
    "**behavioural data**-Spending and consumption patterns, product/service usage, and anticipated benefits are all examples of behavioural data."
   ]
  },
  {
   "cell_type": "markdown",
   "metadata": {},
   "source": [
    "## Question-1\n"
   ]
  },
  {
   "cell_type": "markdown",
   "metadata": {},
   "source": [
    "You are owing a supermarket mall and through membership cards, you have some basic data about your customers like Customer ID(Cus_ID), age(Age), gender(Sex), annual income(Income) and spending score(rating). You want to understand the customers like who are the target customers so that the sense can be given to marketing team and plan the strategy accordingly."
   ]
  },
  {
   "cell_type": "markdown",
   "metadata": {},
   "source": [
    "## Data Preprocessing"
   ]
  },
  {
   "cell_type": "markdown",
   "metadata": {},
   "source": [
    "## Data"
   ]
  },
  {
   "cell_type": "markdown",
   "metadata": {},
   "source": [
    "This project is a part of the amazon Customer Segmentation Data from Kaggle.\n",
    "\n",
    "The dataset can be downloaded from the kaggle website.\n"
   ]
  },
  {
   "cell_type": "markdown",
   "metadata": {},
   "source": [
    "## Environment and tools"
   ]
  },
  {
   "cell_type": "markdown",
   "metadata": {},
   "source": [
    "-scikit-learn<br>\n",
    "-seaborn<br>\n",
    "-numpy<br>\n",
    "-pandas<br>\n",
    "-matplotlib"
   ]
  },
  {
   "cell_type": "markdown",
   "metadata": {
    "id": "Hj40LjUilpix"
   },
   "source": [
    "## Importing the libraries"
   ]
  },
  {
   "cell_type": "markdown",
   "metadata": {},
   "source": [
    "I began by loading all of the necessary libraries and dependencies. Cus_ID,Sex,Age,Income,Rating are the columns in the dataset."
   ]
  },
  {
   "cell_type": "code",
   "execution_count": 1,
   "metadata": {
    "executionInfo": {
     "elapsed": 1017,
     "status": "ok",
     "timestamp": 1611300375169,
     "user": {
      "displayName": "Atulya Kaushik",
      "photoUrl": "https://lh3.googleusercontent.com/a-/AOh14GgbdwwtUpDI6_ZCGNIh_WpVOrowFtjkOnV0PDGRUWfnsvK4VOwoMydLWUomfyM93wzmkYH2oqgNx5NSLSqCwoa5HZ_KxBpxL8GxQN8uRRDtlp3SF7wcGYbFZFH_-wGv0M1O2KeXvqvdFVMbO6RtG-EVC107IWjfYnisZUkM8Ja7dYlgfg4vGCuvxwSpOugEk-_tMkYzsphay8tNHrgG3yrTaxohPhYsZbAYi0JYfNJnfnJYtEefnN4DdpWwdMTR43XXEBkaNd2LOQ028uNa_dzM7_uFvPdiDJR7PXxt-BCtPa8KomMuLBFrxIZKJqikEr2mcXIK48msRSqnv4NsCFrkm5g7s_Sge09Qq5EbIJAVAlOygWUQ0rMQIi9PF-V5XchFYE7NxNmbEEWkHF2jj0zT_kMkV88DczewQCR-WVi0n_305dr7FNXptxwcp7Nc6FBrRIG33V_jElFZ9O7HrCG67QwhPeYVes0O0e48_eWU6XRxbkezYrcKRLDy047B0SHj1Ng96rQxd_YKoFAAgRqMCNunHXMQHQ5OKQv8uF8GnQ7llWSeYGkR14TPX3tWV5Qxy0fsbd3nhuKIvQe69YToY7HH5zp3JHSFbFvzCqvlDe-d2oOp0QPzN0ox3WYd1tJS6GyQ-r161Rq-5kA3Vusn7LzIL1hFwlRAfxH3j9uaHg4INCKONjhLm5c_IS-Pi64UL_tjiJM36PrtNUaQcS8-6y6qtDblN_Zg0r79t3D6gZ6OybTyIR8lOupyUc1BJIe4Eg=s64",
      "userId": "16390917540151948122"
     },
     "user_tz": -330
    },
    "id": "cRg-5igLuoiI"
   },
   "outputs": [],
   "source": [
    "import numpy as np\n",
    "import matplotlib.pyplot as plt\n",
    "import pandas as pd\n",
    "import seaborn as sns"
   ]
  },
  {
   "cell_type": "markdown",
   "metadata": {
    "id": "zApSnwUkl9eD"
   },
   "source": [
    "## Importing Dataset"
   ]
  },
  {
   "cell_type": "code",
   "execution_count": 2,
   "metadata": {
    "executionInfo": {
     "elapsed": 1033,
     "status": "ok",
     "timestamp": 1611300378204,
     "user": {
      "displayName": "Atulya Kaushik",
      "photoUrl": "https://lh3.googleusercontent.com/a-/AOh14GgbdwwtUpDI6_ZCGNIh_WpVOrowFtjkOnV0PDGRUWfnsvK4VOwoMydLWUomfyM93wzmkYH2oqgNx5NSLSqCwoa5HZ_KxBpxL8GxQN8uRRDtlp3SF7wcGYbFZFH_-wGv0M1O2KeXvqvdFVMbO6RtG-EVC107IWjfYnisZUkM8Ja7dYlgfg4vGCuvxwSpOugEk-_tMkYzsphay8tNHrgG3yrTaxohPhYsZbAYi0JYfNJnfnJYtEefnN4DdpWwdMTR43XXEBkaNd2LOQ028uNa_dzM7_uFvPdiDJR7PXxt-BCtPa8KomMuLBFrxIZKJqikEr2mcXIK48msRSqnv4NsCFrkm5g7s_Sge09Qq5EbIJAVAlOygWUQ0rMQIi9PF-V5XchFYE7NxNmbEEWkHF2jj0zT_kMkV88DczewQCR-WVi0n_305dr7FNXptxwcp7Nc6FBrRIG33V_jElFZ9O7HrCG67QwhPeYVes0O0e48_eWU6XRxbkezYrcKRLDy047B0SHj1Ng96rQxd_YKoFAAgRqMCNunHXMQHQ5OKQv8uF8GnQ7llWSeYGkR14TPX3tWV5Qxy0fsbd3nhuKIvQe69YToY7HH5zp3JHSFbFvzCqvlDe-d2oOp0QPzN0ox3WYd1tJS6GyQ-r161Rq-5kA3Vusn7LzIL1hFwlRAfxH3j9uaHg4INCKONjhLm5c_IS-Pi64UL_tjiJM36PrtNUaQcS8-6y6qtDblN_Zg0r79t3D6gZ6OybTyIR8lOupyUc1BJIe4Eg=s64",
      "userId": "16390917540151948122"
     },
     "user_tz": -330
    },
    "id": "mjAi2fGLvGvK",
    "scrolled": false
   },
   "outputs": [
    {
     "data": {
      "text/html": [
       "<div>\n",
       "<style scoped>\n",
       "    .dataframe tbody tr th:only-of-type {\n",
       "        vertical-align: middle;\n",
       "    }\n",
       "\n",
       "    .dataframe tbody tr th {\n",
       "        vertical-align: top;\n",
       "    }\n",
       "\n",
       "    .dataframe thead th {\n",
       "        text-align: right;\n",
       "    }\n",
       "</style>\n",
       "<table border=\"1\" class=\"dataframe\">\n",
       "  <thead>\n",
       "    <tr style=\"text-align: right;\">\n",
       "      <th></th>\n",
       "      <th>Cus_ID</th>\n",
       "      <th>Sex</th>\n",
       "      <th>Age</th>\n",
       "      <th>Income</th>\n",
       "      <th>Rating</th>\n",
       "    </tr>\n",
       "  </thead>\n",
       "  <tbody>\n",
       "    <tr>\n",
       "      <th>0</th>\n",
       "      <td>301219</td>\n",
       "      <td>M</td>\n",
       "      <td>23</td>\n",
       "      <td>306555</td>\n",
       "      <td>44</td>\n",
       "    </tr>\n",
       "    <tr>\n",
       "      <th>1</th>\n",
       "      <td>301220</td>\n",
       "      <td>F</td>\n",
       "      <td>26</td>\n",
       "      <td>306555</td>\n",
       "      <td>91</td>\n",
       "    </tr>\n",
       "    <tr>\n",
       "      <th>2</th>\n",
       "      <td>301221</td>\n",
       "      <td>F</td>\n",
       "      <td>24</td>\n",
       "      <td>326992</td>\n",
       "      <td>7</td>\n",
       "    </tr>\n",
       "    <tr>\n",
       "      <th>3</th>\n",
       "      <td>301222</td>\n",
       "      <td>M</td>\n",
       "      <td>28</td>\n",
       "      <td>326992</td>\n",
       "      <td>87</td>\n",
       "    </tr>\n",
       "    <tr>\n",
       "      <th>4</th>\n",
       "      <td>301223</td>\n",
       "      <td>F</td>\n",
       "      <td>38</td>\n",
       "      <td>347429</td>\n",
       "      <td>45</td>\n",
       "    </tr>\n",
       "  </tbody>\n",
       "</table>\n",
       "</div>"
      ],
      "text/plain": [
       "   Cus_ID Sex  Age  Income  Rating\n",
       "0  301219   M   23  306555      44\n",
       "1  301220   F   26  306555      91\n",
       "2  301221   F   24  326992       7\n",
       "3  301222   M   28  326992      87\n",
       "4  301223   F   38  347429      45"
      ]
     },
     "execution_count": 2,
     "metadata": {},
     "output_type": "execute_result"
    }
   ],
   "source": [
    "data_set = pd.read_csv('D:\\\\project\\\\amazon_cus_seg\\\\amazon.csv')\n",
    "data_set.head()\n"
   ]
  },
  {
   "cell_type": "markdown",
   "metadata": {},
   "source": [
    "I removed the id column because it does not appear to be important in this case. In addition, I plotted the age distribution of consumers."
   ]
  },
  {
   "cell_type": "code",
   "execution_count": 3,
   "metadata": {},
   "outputs": [
    {
     "data": {
      "image/png": "[encoded data removed]",
      "text/plain": [
       "<Figure size 720x432 with 1 Axes>"
      ]
     },
     "metadata": {
      "needs_background": "light"
     },
     "output_type": "display_data"
    }
   ],
   "source": [
    "data_set.drop([\"Cus_ID\"], axis = 1, inplace=True)\n",
    "\n",
    "plt.figure(figsize=(10,6))\n",
    "plt.title(\"Ages Frequency\")\n",
    "sns.axes_style(\"dark\")\n",
    "sns.violinplot(y=data_set[\"Age\"])\n",
    "plt.show()"
   ]
  },
  {
   "cell_type": "markdown",
   "metadata": {},
   "source": [
    "To better illustrate the distribution range, I created a box plot of the expenditure score and yearly income. The yearly income range is significantly greater than the expenditure score range."
   ]
  },
  {
   "cell_type": "code",
   "execution_count": 4,
   "metadata": {},
   "outputs": [
    {
     "data": {
      "image/png": "[encoded data removed]",
      "text/plain": [
       "<Figure size 1080x432 with 2 Axes>"
      ]
     },
     "metadata": {
      "needs_background": "light"
     },
     "output_type": "display_data"
    }
   ],
   "source": [
    "plt.figure(figsize=(15,6))\n",
    "plt.subplot(1,2,1)\n",
    "sns.boxplot(y=data_set[\"Rating\"], color=\"red\")\n",
    "plt.subplot(1,2,2)\n",
    "sns.boxplot(y=data_set[\"Income\"])\n",
    "plt.show()"
   ]
  },
  {
   "cell_type": "markdown",
   "metadata": {},
   "source": [
    "I made a bar plot to check the distribution of male and female population in the dataset. The female population clearly outweighs the male counterpart."
   ]
  },
  {
   "cell_type": "code",
   "execution_count": 5,
   "metadata": {},
   "outputs": [
    {
     "data": {
      "image/png": "[encoded data removed]",
      "text/plain": [
       "<Figure size 720x288 with 1 Axes>"
      ]
     },
     "metadata": {},
     "output_type": "display_data"
    }
   ],
   "source": [
    "genders = data_set.Sex.value_counts()\n",
    "sns.set_style(\"darkgrid\")\n",
    "plt.figure(figsize=(10,4))\n",
    "\n",
    "sns.barplot(x=genders.index, y=genders.values)\n",
    "plt.show()"
   ]
  },
  {
   "cell_type": "markdown",
   "metadata": {},
   "source": [
    "Next I made a bar plot to check the distribution of number of customers in each age group. Clearly the 26–35 age group outweighs every other age group."
   ]
  },
  {
   "cell_type": "code",
   "execution_count": 6,
   "metadata": {},
   "outputs": [
    {
     "data": {
      "image/png": "[encoded data removed]",
      "text/plain": [
       "<Figure size 1080x432 with 1 Axes>"
      ]
     },
     "metadata": {},
     "output_type": "display_data"
    }
   ],
   "source": [
    "age18_25 = data_set.Age[(data_set.Age <= 25) & (data_set.Age >= 18)]\n",
    "age26_35 = data_set.Age[(data_set.Age <= 35) & (data_set.Age >= 26)]\n",
    "age36_45 = data_set.Age[(data_set.Age <= 45) & (data_set.Age >= 36)]\n",
    "age46_55 = data_set.Age[(data_set.Age <= 55) & (data_set.Age >= 46)]\n",
    "age55above = data_set.Age[data_set.Age >= 56]\n",
    "\n",
    "x = [\"18-25\",\"26-35\",\"36-45\",\"46-55\",\"55+\"]\n",
    "y = [len(age18_25.values),len(age26_35.values),len(age36_45.values),len(age46_55.values),len(age55above.values)]\n",
    "\n",
    "plt.figure(figsize=(15,6))\n",
    "sns.barplot(x=x, y=y, palette=\"rocket\")\n",
    "plt.title(\"Number of Customer and Ages\")\n",
    "plt.xlabel(\"Age\")\n",
    "plt.ylabel(\"Number of Customer\")\n",
    "plt.show()"
   ]
  },
  {
   "cell_type": "markdown",
   "metadata": {},
   "source": [
    "I went on to make a bar graph to show the number of clients based on their spending ratings. The vast majority of consumers have a spending score of 41–60."
   ]
  },
  {
   "cell_type": "code",
   "execution_count": 7,
   "metadata": {},
   "outputs": [
    {
     "data": {
      "image/png": "[encoded data removed]",
      "text/plain": [
       "<Figure size 1080x432 with 1 Axes>"
      ]
     },
     "metadata": {},
     "output_type": "display_data"
    }
   ],
   "source": [
    "ss1_20 = data_set[\"Rating\"][(data_set[\"Rating\"] >= 1) & (data_set[\"Rating\"] <= 20)]\n",
    "ss21_40 = data_set[\"Rating\"][(data_set[\"Rating\"] >= 21) & (data_set[\"Rating\"] <= 40)]\n",
    "ss41_60 = data_set[\"Rating\"][(data_set[\"Rating\"] >= 41) & (data_set[\"Rating\"] <= 60)]\n",
    "ss61_80 = data_set[\"Rating\"][(data_set[\"Rating\"] >= 61) & (data_set[\"Rating\"] <= 80)]\n",
    "ss81_100 = data_set[\"Rating\"][(data_set[\"Rating\"] >= 81) & (data_set[\"Rating\"] <= 100)]\n",
    "\n",
    "ssx = [\"1-20\", \"21-40\", \"41-60\", \"61-80\", \"81-100\"]\n",
    "ssy = [len(ss1_20.values), len(ss21_40.values), len(ss41_60.values), len(ss61_80.values), len(ss81_100.values)]\n",
    "\n",
    "plt.figure(figsize=(15,6))\n",
    "sns.barplot(x=ssx, y=ssy, palette=\"nipy_spectral_r\")\n",
    "plt.title(\"Spending Scores\")\n",
    "plt.xlabel(\"Score\")\n",
    "plt.ylabel(\"Number of Customer Having the Score\")\n",
    "plt.show()"
   ]
  },
  {
   "cell_type": "markdown",
   "metadata": {},
   "source": [
    "# Clustering for Income and Rating"
   ]
  },
  {
   "cell_type": "markdown",
   "metadata": {},
   "source": [
    "## Taking subset of Income & Rating"
   ]
  },
  {
   "cell_type": "code",
   "execution_count": 8,
   "metadata": {},
   "outputs": [
    {
     "data": {
      "text/html": [
       "<div>\n",
       "<style scoped>\n",
       "    .dataframe tbody tr th:only-of-type {\n",
       "        vertical-align: middle;\n",
       "    }\n",
       "\n",
       "    .dataframe tbody tr th {\n",
       "        vertical-align: top;\n",
       "    }\n",
       "\n",
       "    .dataframe thead th {\n",
       "        text-align: right;\n",
       "    }\n",
       "</style>\n",
       "<table border=\"1\" class=\"dataframe\">\n",
       "  <thead>\n",
       "    <tr style=\"text-align: right;\">\n",
       "      <th></th>\n",
       "      <th>Cus_ID</th>\n",
       "      <th>Sex</th>\n",
       "      <th>Age</th>\n",
       "      <th>Income</th>\n",
       "      <th>Rating</th>\n",
       "    </tr>\n",
       "  </thead>\n",
       "  <tbody>\n",
       "    <tr>\n",
       "      <th>0</th>\n",
       "      <td>301219</td>\n",
       "      <td>M</td>\n",
       "      <td>23</td>\n",
       "      <td>306555</td>\n",
       "      <td>44</td>\n",
       "    </tr>\n",
       "    <tr>\n",
       "      <th>1</th>\n",
       "      <td>301220</td>\n",
       "      <td>F</td>\n",
       "      <td>26</td>\n",
       "      <td>306555</td>\n",
       "      <td>91</td>\n",
       "    </tr>\n",
       "    <tr>\n",
       "      <th>2</th>\n",
       "      <td>301221</td>\n",
       "      <td>F</td>\n",
       "      <td>24</td>\n",
       "      <td>326992</td>\n",
       "      <td>7</td>\n",
       "    </tr>\n",
       "    <tr>\n",
       "      <th>3</th>\n",
       "      <td>301222</td>\n",
       "      <td>M</td>\n",
       "      <td>28</td>\n",
       "      <td>326992</td>\n",
       "      <td>87</td>\n",
       "    </tr>\n",
       "    <tr>\n",
       "      <th>4</th>\n",
       "      <td>301223</td>\n",
       "      <td>F</td>\n",
       "      <td>38</td>\n",
       "      <td>347429</td>\n",
       "      <td>45</td>\n",
       "    </tr>\n",
       "  </tbody>\n",
       "</table>\n",
       "</div>"
      ],
      "text/plain": [
       "   Cus_ID Sex  Age  Income  Rating\n",
       "0  301219   M   23  306555      44\n",
       "1  301220   F   26  306555      91\n",
       "2  301221   F   24  326992       7\n",
       "3  301222   M   28  326992      87\n",
       "4  301223   F   38  347429      45"
      ]
     },
     "execution_count": 8,
     "metadata": {},
     "output_type": "execute_result"
    }
   ],
   "source": [
    "data_set = pd.read_csv('D:\\\\project\\\\amazon_cus_seg\\\\amazon.csv')\n",
    "data_set.head()"
   ]
  },
  {
   "cell_type": "code",
   "execution_count": 9,
   "metadata": {},
   "outputs": [],
   "source": [
    "X = data_set.iloc[:, [3, 4]].values"
   ]
  },
  {
   "cell_type": "code",
   "execution_count": 10,
   "metadata": {
    "colab": {
     "base_uri": "https://localhost:8080/"
    },
    "executionInfo": {
     "elapsed": 1020,
     "status": "ok",
     "timestamp": 1611300380138,
     "user": {
      "displayName": "Atulya Kaushik",
      "photoUrl": "https://lh3.googleusercontent.com/a-/AOh14GgbdwwtUpDI6_ZCGNIh_WpVOrowFtjkOnV0PDGRUWfnsvK4VOwoMydLWUomfyM93wzmkYH2oqgNx5NSLSqCwoa5HZ_KxBpxL8GxQN8uRRDtlp3SF7wcGYbFZFH_-wGv0M1O2KeXvqvdFVMbO6RtG-EVC107IWjfYnisZUkM8Ja7dYlgfg4vGCuvxwSpOugEk-_tMkYzsphay8tNHrgG3yrTaxohPhYsZbAYi0JYfNJnfnJYtEefnN4DdpWwdMTR43XXEBkaNd2LOQ028uNa_dzM7_uFvPdiDJR7PXxt-BCtPa8KomMuLBFrxIZKJqikEr2mcXIK48msRSqnv4NsCFrkm5g7s_Sge09Qq5EbIJAVAlOygWUQ0rMQIi9PF-V5XchFYE7NxNmbEEWkHF2jj0zT_kMkV88DczewQCR-WVi0n_305dr7FNXptxwcp7Nc6FBrRIG33V_jElFZ9O7HrCG67QwhPeYVes0O0e48_eWU6XRxbkezYrcKRLDy047B0SHj1Ng96rQxd_YKoFAAgRqMCNunHXMQHQ5OKQv8uF8GnQ7llWSeYGkR14TPX3tWV5Qxy0fsbd3nhuKIvQe69YToY7HH5zp3JHSFbFvzCqvlDe-d2oOp0QPzN0ox3WYd1tJS6GyQ-r161Rq-5kA3Vusn7LzIL1hFwlRAfxH3j9uaHg4INCKONjhLm5c_IS-Pi64UL_tjiJM36PrtNUaQcS8-6y6qtDblN_Zg0r79t3D6gZ6OybTyIR8lOupyUc1BJIe4Eg=s64",
      "userId": "16390917540151948122"
     },
     "user_tz": -330
    },
    "id": "mzP3JFLXwfG3",
    "outputId": "3f7fe94e-0bb3-48f8-d426-9acae97b3ca5"
   },
   "outputs": [
    {
     "name": "stdout",
     "output_type": "stream",
     "text": [
      "[[ 306555      44]\n",
      " [ 306555      91]\n",
      " [ 326992       7]\n",
      " [ 326992      87]\n",
      " [ 347429      45]\n",
      " [ 347429      86]\n",
      " [ 367866       7]\n",
      " [ 367866     106]\n",
      " [ 388303       4]\n",
      " [ 388303      81]\n",
      " [ 388303      16]\n",
      " [ 388303     111]\n",
      " [ 408740      17]\n",
      " [ 408740      87]\n",
      " [ 408740      15]\n",
      " [ 408740      89]\n",
      " [ 429177      40]\n",
      " [ 429177      74]\n",
      " [ 470051      33]\n",
      " [ 470051     110]\n",
      " [ 490488      40]\n",
      " [ 490488      82]\n",
      " [ 510925       6]\n",
      " [ 510925      82]\n",
      " [ 572236      16]\n",
      " [ 572236      92]\n",
      " [ 572236      36]\n",
      " [ 572236      69]\n",
      " [ 592673      35]\n",
      " [ 592673      98]\n",
      " [ 613110       5]\n",
      " [ 613110      82]\n",
      " [ 674421       5]\n",
      " [ 674421     104]\n",
      " [ 674421      16]\n",
      " [ 674421      91]\n",
      " [ 694858      20]\n",
      " [ 694858      82]\n",
      " [ 756169      30]\n",
      " [ 756169      84]\n",
      " [ 776606      40]\n",
      " [ 776606     104]\n",
      " [ 797043      41]\n",
      " [ 797043      69]\n",
      " [ 797043      32]\n",
      " [ 797043      73]\n",
      " [ 817480      62]\n",
      " [ 817480      53]\n",
      " [ 817480      48]\n",
      " [ 817480      48]\n",
      " [ 858354      59]\n",
      " [ 858354      68]\n",
      " [ 878791      61]\n",
      " [ 878791      68]\n",
      " [ 878791      51]\n",
      " [ 878791      46]\n",
      " [ 899228      56]\n",
      " [ 899228      52]\n",
      " [ 940102      58]\n",
      " [ 940102      52]\n",
      " [ 940102      63]\n",
      " [ 940102      62]\n",
      " [ 960539      59]\n",
      " [ 960539      67]\n",
      " [ 980976      58]\n",
      " [ 980976      67]\n",
      " [ 980976      56]\n",
      " [ 980976      54]\n",
      " [ 980976      67]\n",
      " [ 980976      53]\n",
      " [1001413      62]\n",
      " [1001413      48]\n",
      " [1021850      55]\n",
      " [1021850      63]\n",
      " [1103598      53]\n",
      " [1103598      61]\n",
      " [1103598      60]\n",
      " [1103598      54]\n",
      " [1103598      59]\n",
      " [1103598      48]\n",
      " [1103598      58]\n",
      " [1103598      62]\n",
      " [1103598      46]\n",
      " [1103598      50]\n",
      " [1103598      64]\n",
      " [1103598      52]\n",
      " [1164909      65]\n",
      " [1164909      62]\n",
      " [1185346      68]\n",
      " [1185346      52]\n",
      " [1205783      62]\n",
      " [1205783      46]\n",
      " [1226220      55]\n",
      " [1226220      45]\n",
      " [1226220      48]\n",
      " [1226220      59]\n",
      " [1226220      53]\n",
      " [1226220      56]\n",
      " [1246657      48]\n",
      " [1246657      55]\n",
      " [1267094      46]\n",
      " [1267094      54]\n",
      " [1267094      67]\n",
      " [1267094      62]\n",
      " [1267094      63]\n",
      " [1267094      48]\n",
      " [1287531      56]\n",
      " [1287531      52]\n",
      " [1287531      49]\n",
      " [1287531      54]\n",
      " [1287531      59]\n",
      " [1287531      61]\n",
      " [1307968      48]\n",
      " [1307968      52]\n",
      " [1328405      54]\n",
      " [1328405      56]\n",
      " [1328405      49]\n",
      " [1328405      67]\n",
      " [1369279      49]\n",
      " [1369279      64]\n",
      " [1369279      63]\n",
      " [1369279      45]\n",
      " [1410153      65]\n",
      " [1410153     102]\n",
      " [1430590      33]\n",
      " [1430590      87]\n",
      " [1451027      40]\n",
      " [1451027     107]\n",
      " [1451027      13]\n",
      " [1451027      84]\n",
      " [1451027      11]\n",
      " [1451027      84]\n",
      " [1471464      39]\n",
      " [1471464      80]\n",
      " [1491901       6]\n",
      " [1491901      99]\n",
      " [1491901       8]\n",
      " [1491901      82]\n",
      " [1512338      12]\n",
      " [1512338      81]\n",
      " [1532775       6]\n",
      " [1532775     105]\n",
      " [1553212      45]\n",
      " [1553212      98]\n",
      " [1573649      14]\n",
      " [1573649     109]\n",
      " [1573649      41]\n",
      " [1573649      83]\n",
      " [1594086      25]\n",
      " [1594086     101]\n",
      " [1594086      20]\n",
      " [1594086      99]\n",
      " [1594086      23]\n",
      " [1594086      86]\n",
      " [1594086      18]\n",
      " [1594086     100]\n",
      " [1594086       2]\n",
      " [1594086      88]\n",
      " [1594086       2]\n",
      " [1594086      82]\n",
      " [1614523      40]\n",
      " [1614523      93]\n",
      " [1655397       6]\n",
      " [1655397     105]\n",
      " [1737145      30]\n",
      " [1737145      84]\n",
      " [1757582      23]\n",
      " [1757582     107]\n",
      " [1778019      31]\n",
      " [1778019      71]\n",
      " [1778019      15]\n",
      " [1778019      84]\n",
      " [1778019      12]\n",
      " [1778019     104]\n",
      " [1798456      15]\n",
      " [1798456      97]\n",
      " [1798456      17]\n",
      " [1798456      78]\n",
      " [1900641      16]\n",
      " [1900641     101]\n",
      " [1982389      36]\n",
      " [1982389      97]\n",
      " [2002826      17]\n",
      " [2002826      99]\n",
      " [2023263      44]\n",
      " [2023263     109]\n",
      " [2064137      27]\n",
      " [2064137      77]\n",
      " [2105011      20]\n",
      " [2105011      96]\n",
      " [2105011      26]\n",
      " [2105011      78]\n",
      " [2309381       9]\n",
      " [2309381     102]\n",
      " [2452440      18]\n",
      " [2452440      89]\n",
      " [2575062      32]\n",
      " [2575062      83]\n",
      " [2799869      21]\n",
      " [2799869      93]]\n"
     ]
    }
   ],
   "source": [
    "print(X)"
   ]
  },
  {
   "cell_type": "markdown",
   "metadata": {
    "id": "XaG0s7WjmgPU"
   },
   "source": [
    "## Optimal number of cluster via Elbow Method  for Income & Rating"
   ]
  },
  {
   "cell_type": "markdown",
   "metadata": {},
   "source": [
    "Next, I calculated the ideal number of clusters by plotting Within Cluster Sum Of Squares (WCSS) versus the number of clusters (K Value). WCSS calculates the sum of observations' distances from their cluster centroids using the formula below."
   ]
  },
  {
   "attachments": {
    "wcss.png": {
     "image/png": "[encoded data removed]"
    }
   },
   "cell_type": "markdown",
   "metadata": {},
   "source": [
    "![wcss.png](attachment:wcss.png)"
   ]
  },
  {
   "cell_type": "markdown",
   "metadata": {},
   "source": [
    "where Yi is centroid for observation Xi. The main goal is to maximize number of clusters and in limiting case each data point becomes its own cluster centroid."
   ]
  },
  {
   "cell_type": "code",
   "execution_count": 11,
   "metadata": {
    "executionInfo": {
     "elapsed": 1009,
     "status": "ok",
     "timestamp": 1611300395471,
     "user": {
      "displayName": "Atulya Kaushik",
      "photoUrl": "https://lh3.googleusercontent.com/a-/AOh14GgbdwwtUpDI6_ZCGNIh_WpVOrowFtjkOnV0PDGRUWfnsvK4VOwoMydLWUomfyM93wzmkYH2oqgNx5NSLSqCwoa5HZ_KxBpxL8GxQN8uRRDtlp3SF7wcGYbFZFH_-wGv0M1O2KeXvqvdFVMbO6RtG-EVC107IWjfYnisZUkM8Ja7dYlgfg4vGCuvxwSpOugEk-_tMkYzsphay8tNHrgG3yrTaxohPhYsZbAYi0JYfNJnfnJYtEefnN4DdpWwdMTR43XXEBkaNd2LOQ028uNa_dzM7_uFvPdiDJR7PXxt-BCtPa8KomMuLBFrxIZKJqikEr2mcXIK48msRSqnv4NsCFrkm5g7s_Sge09Qq5EbIJAVAlOygWUQ0rMQIi9PF-V5XchFYE7NxNmbEEWkHF2jj0zT_kMkV88DczewQCR-WVi0n_305dr7FNXptxwcp7Nc6FBrRIG33V_jElFZ9O7HrCG67QwhPeYVes0O0e48_eWU6XRxbkezYrcKRLDy047B0SHj1Ng96rQxd_YKoFAAgRqMCNunHXMQHQ5OKQv8uF8GnQ7llWSeYGkR14TPX3tWV5Qxy0fsbd3nhuKIvQe69YToY7HH5zp3JHSFbFvzCqvlDe-d2oOp0QPzN0ox3WYd1tJS6GyQ-r161Rq-5kA3Vusn7LzIL1hFwlRAfxH3j9uaHg4INCKONjhLm5c_IS-Pi64UL_tjiJM36PrtNUaQcS8-6y6qtDblN_Zg0r79t3D6gZ6OybTyIR8lOupyUc1BJIe4Eg=s64",
      "userId": "16390917540151948122"
     },
     "user_tz": -330
    },
    "id": "hrao100Bx0GF"
   },
   "outputs": [],
   "source": [
    "from sklearn.cluster import KMeans"
   ]
  },
  {
   "cell_type": "code",
   "execution_count": 12,
   "metadata": {
    "colab": {
     "base_uri": "https://localhost:8080/"
    },
    "executionInfo": {
     "elapsed": 1030,
     "status": "ok",
     "timestamp": 1611299568237,
     "user": {
      "displayName": "Atulya Kaushik",
      "photoUrl": "https://lh3.googleusercontent.com/a-/AOh14GgbdwwtUpDI6_ZCGNIh_WpVOrowFtjkOnV0PDGRUWfnsvK4VOwoMydLWUomfyM93wzmkYH2oqgNx5NSLSqCwoa5HZ_KxBpxL8GxQN8uRRDtlp3SF7wcGYbFZFH_-wGv0M1O2KeXvqvdFVMbO6RtG-EVC107IWjfYnisZUkM8Ja7dYlgfg4vGCuvxwSpOugEk-_tMkYzsphay8tNHrgG3yrTaxohPhYsZbAYi0JYfNJnfnJYtEefnN4DdpWwdMTR43XXEBkaNd2LOQ028uNa_dzM7_uFvPdiDJR7PXxt-BCtPa8KomMuLBFrxIZKJqikEr2mcXIK48msRSqnv4NsCFrkm5g7s_Sge09Qq5EbIJAVAlOygWUQ0rMQIi9PF-V5XchFYE7NxNmbEEWkHF2jj0zT_kMkV88DczewQCR-WVi0n_305dr7FNXptxwcp7Nc6FBrRIG33V_jElFZ9O7HrCG67QwhPeYVes0O0e48_eWU6XRxbkezYrcKRLDy047B0SHj1Ng96rQxd_YKoFAAgRqMCNunHXMQHQ5OKQv8uF8GnQ7llWSeYGkR14TPX3tWV5Qxy0fsbd3nhuKIvQe69YToY7HH5zp3JHSFbFvzCqvlDe-d2oOp0QPzN0ox3WYd1tJS6GyQ-r161Rq-5kA3Vusn7LzIL1hFwlRAfxH3j9uaHg4INCKONjhLm5c_IS-Pi64UL_tjiJM36PrtNUaQcS8-6y6qtDblN_Zg0r79t3D6gZ6OybTyIR8lOupyUc1BJIe4Eg=s64",
      "userId": "16390917540151948122"
     },
     "user_tz": -330
    },
    "id": "sAXCmpU_zqiO",
    "outputId": "74ad8cae-8daa-4a96-a33c-f4042e06b86c"
   },
   "outputs": [
    {
     "name": "stderr",
     "output_type": "stream",
     "text": [
      "C:\\Users\\harsh\\anaconda3\\lib\\site-packages\\sklearn\\cluster\\_kmeans.py:881: UserWarning: KMeans is known to have a memory leak on Windows with MKL, when there are less chunks than available threads. You can avoid it by setting the environment variable OMP_NUM_THREADS=1.\n",
      "  warnings.warn(\n"
     ]
    },
    {
     "data": {
      "text/plain": [
       "[57336734725495.914,\n",
       " 20324240780832.9,\n",
       " 9822506564414.674,\n",
       " 5545882369625.054,\n",
       " 3542474898530.33,\n",
       " 2122388788066.3884,\n",
       " 1642277443724.3494,\n",
       " 1186665503971.108,\n",
       " 947844635265.1279,\n",
       " 737863666273.3153]"
      ]
     },
     "execution_count": 12,
     "metadata": {},
     "output_type": "execute_result"
    }
   ],
   "source": [
    "wcss = []\n",
    "\n",
    "for i in range(1,11):\n",
    "  kmeans= KMeans(n_clusters= i, init= 'k-means++', random_state = 21)\n",
    "  kmeans.fit(X)\n",
    "  wcss.append(kmeans.inertia_)\n",
    "wcss"
   ]
  },
  {
   "cell_type": "markdown",
   "metadata": {},
   "source": [
    "## The Elbow Method\n"
   ]
  },
  {
   "cell_type": "markdown",
   "metadata": {},
   "source": [
    "Calculate the Within Cluster Sum of Squared Errors (WSS) for various values of k and select the k at which WSS begins to decline. This is apparent as an elbow in the WSS-versus-k figure.\n",
    "\n",
    "Using the elbow approach, the optimal K value is discovered to be 4.\n",
    "\n",
    "Finally, I created a plot to display the clients' spending score in relation to their yearly income. As seen in the figure, the data points are divided into 4 classes, each of which is represented by a distinct colour."
   ]
  },
  {
   "cell_type": "code",
   "execution_count": 13,
   "metadata": {},
   "outputs": [
    {
     "data": {
      "image/png": "[encoded data removed]",
      "text/plain": [
       "<Figure size 432x288 with 1 Axes>"
      ]
     },
     "metadata": {},
     "output_type": "display_data"
    }
   ],
   "source": [
    "plt.plot(range(1,11), wcss)\n",
    "plt.title('WCSS via Elbow method')\n",
    "plt.xlabel('k Value')\n",
    "plt.ylabel('WCSS Value')\n",
    "\n",
    "plt.show()"
   ]
  },
  {
   "cell_type": "markdown",
   "metadata": {},
   "source": [
    "## Kmean model training"
   ]
  },
  {
   "cell_type": "code",
   "execution_count": 14,
   "metadata": {},
   "outputs": [],
   "source": [
    "kmeans = KMeans(n_clusters = 4, init = 'k-means++', random_state = 42)\n",
    "y_means = kmeans.fit_predict(X)"
   ]
  },
  {
   "cell_type": "code",
   "execution_count": 15,
   "metadata": {},
   "outputs": [
    {
     "name": "stdout",
     "output_type": "stream",
     "text": [
      "[2 2 2 2 2 2 2 2 2 2 2 2 2 2 2 2 2 2 2 2 2 2 2 2 2 2 2 2 2 2 2 2 2 2 2 2 2\n",
      " 2 2 2 2 2 2 2 2 2 2 2 2 2 0 0 0 0 0 0 0 0 0 0 0 0 0 0 0 0 0 0 0 0 0 0 0 0\n",
      " 0 0 0 0 0 0 0 0 0 0 0 0 0 0 0 0 0 0 0 0 0 0 0 0 0 0 0 0 0 0 0 0 0 0 0 0 0\n",
      " 0 0 0 0 0 0 0 1 1 1 1 1 1 1 1 1 1 1 1 1 1 1 1 1 1 1 1 1 1 1 1 1 1 1 1 1 1\n",
      " 1 1 1 1 1 1 1 1 1 1 1 1 1 1 1 1 1 1 1 1 1 1 1 1 1 1 1 1 1 1 1 1 3 3 3 3 3\n",
      " 3 3 3 3 3 3 3 3 3 3 3 3 3 3 3]\n"
     ]
    }
   ],
   "source": [
    "print(y_means)"
   ]
  },
  {
   "cell_type": "markdown",
   "metadata": {},
   "source": [
    "## Visualizing Clusters for Income & Rating"
   ]
  },
  {
   "cell_type": "code",
   "execution_count": 16,
   "metadata": {},
   "outputs": [
    {
     "data": {
      "image/png": "[encoded data removed]",
      "text/plain": [
       "<Figure size 432x288 with 1 Axes>"
      ]
     },
     "metadata": {},
     "output_type": "display_data"
    }
   ],
   "source": [
    "plt.scatter(X[y_means == 0, 0], X[y_means == 0, 1], s = 100, c = 'magenta', label = 'Cluster 1')\n",
    "plt.scatter(X[y_means == 1, 0], X[y_means == 1, 1], s = 100, c = 'blue', label = 'Cluster 2')\n",
    "plt.scatter(X[y_means == 2, 0], X[y_means == 2, 1], s = 100, c = 'red', label = 'Cluster 3')\n",
    "plt.scatter(X[y_means == 3, 0], X[y_means == 3, 1], s = 100, c = 'cyan', label = 'Cluster 4')\n",
    "plt.scatter(kmeans.cluster_centers_[:, 0], kmeans.cluster_centers_[:, 1], s = 300, c = 'black', label = 'Centroids')\n",
    "plt.title('Cluster of Amazon users')\n",
    "plt.xlabel('Income')\n",
    "plt.ylabel('Purchase Rating')\n",
    "plt.legend()\n",
    "plt.show()"
   ]
  },
  {
   "cell_type": "markdown",
   "metadata": {},
   "source": [
    "# For Age and Rating"
   ]
  },
  {
   "cell_type": "markdown",
   "metadata": {},
   "source": [
    "## Taking subset of Income & Rating"
   ]
  },
  {
   "cell_type": "code",
   "execution_count": 17,
   "metadata": {},
   "outputs": [],
   "source": [
    "Y = data_set.iloc[:, [2, 4]].values"
   ]
  },
  {
   "cell_type": "code",
   "execution_count": 18,
   "metadata": {},
   "outputs": [
    {
     "name": "stdout",
     "output_type": "stream",
     "text": [
      "[[ 23  44]\n",
      " [ 26  91]\n",
      " [ 24   7]\n",
      " [ 28  87]\n",
      " [ 38  45]\n",
      " [ 27  86]\n",
      " [ 42   7]\n",
      " [ 28 106]\n",
      " [ 77   4]\n",
      " [ 36  81]\n",
      " [ 81  16]\n",
      " [ 42 111]\n",
      " [ 70  17]\n",
      " [ 29  87]\n",
      " [ 45  15]\n",
      " [ 27  89]\n",
      " [ 42  40]\n",
      " [ 24  74]\n",
      " [ 63  33]\n",
      " [ 42 110]\n",
      " [ 42  40]\n",
      " [ 30  82]\n",
      " [ 56   6]\n",
      " [ 38  82]\n",
      " [ 65  16]\n",
      " [ 35  92]\n",
      " [ 54  36]\n",
      " [ 42  69]\n",
      " [ 48  35]\n",
      " [ 28  98]\n",
      " [ 72   5]\n",
      " [ 26  82]\n",
      " [ 64   5]\n",
      " [ 22 104]\n",
      " [ 59  16]\n",
      " [ 26  91]\n",
      " [ 51  20]\n",
      " [ 36  82]\n",
      " [ 44  30]\n",
      " [ 24  84]\n",
      " [ 78  40]\n",
      " [ 29 104]\n",
      " [ 58  41]\n",
      " [ 38  69]\n",
      " [ 59  32]\n",
      " [ 29  73]\n",
      " [ 60  62]\n",
      " [ 33  53]\n",
      " [ 35  48]\n",
      " [ 38  48]\n",
      " [ 59  59]\n",
      " [ 40  68]\n",
      " [ 38  61]\n",
      " [ 71  68]\n",
      " [ 60  51]\n",
      " [ 57  46]\n",
      " [ 62  56]\n",
      " [ 83  52]\n",
      " [ 33  58]\n",
      " [ 64  52]\n",
      " [ 84  63]\n",
      " [ 23  62]\n",
      " [ 81  59]\n",
      " [ 65  67]\n",
      " [ 76  58]\n",
      " [ 22  67]\n",
      " [ 52  56]\n",
      " [ 82  54]\n",
      " [ 23  67]\n",
      " [ 39  53]\n",
      " [ 84  62]\n",
      " [ 57  48]\n",
      " [ 72  55]\n",
      " [ 72  63]\n",
      " [ 71  53]\n",
      " [ 32  61]\n",
      " [ 54  60]\n",
      " [ 48  54]\n",
      " [ 28  59]\n",
      " [ 59  48]\n",
      " [ 69  58]\n",
      " [ 46  62]\n",
      " [ 81  46]\n",
      " [ 56  50]\n",
      " [ 26  64]\n",
      " [ 58  52]\n",
      " [ 66  65]\n",
      " [ 27  62]\n",
      " [ 41  68]\n",
      " [ 60  52]\n",
      " [ 82  62]\n",
      " [ 22  46]\n",
      " [ 58  55]\n",
      " [ 48  45]\n",
      " [ 39  48]\n",
      " [ 29  59]\n",
      " [ 57  53]\n",
      " [ 33  56]\n",
      " [ 58  48]\n",
      " [ 24  55]\n",
      " [ 28  46]\n",
      " [ 59  54]\n",
      " [ 81  67]\n",
      " [ 32  62]\n",
      " [ 59  63]\n",
      " [ 26  48]\n",
      " [ 80  56]\n",
      " [ 65  52]\n",
      " [ 82  49]\n",
      " [ 80  54]\n",
      " [ 78  59]\n",
      " [ 23  61]\n",
      " [ 46  48]\n",
      " [ 23  52]\n",
      " [ 22  54]\n",
      " [ 23  56]\n",
      " [ 76  49]\n",
      " [ 59  67]\n",
      " [ 62  49]\n",
      " [ 60  64]\n",
      " [ 33  63]\n",
      " [ 46  45]\n",
      " [ 48  65]\n",
      " [ 47 102]\n",
      " [ 28  33]\n",
      " [ 38  87]\n",
      " [ 52  40]\n",
      " [ 48 107]\n",
      " [ 71  13]\n",
      " [ 46  84]\n",
      " [ 57  11]\n",
      " [ 47  84]\n",
      " [ 30  39]\n",
      " [ 38  80]\n",
      " [ 24   6]\n",
      " [ 35  99]\n",
      " [ 53   8]\n",
      " [ 39  82]\n",
      " [ 23  12]\n",
      " [ 42  81]\n",
      " [ 69   6]\n",
      " [ 39 105]\n",
      " [ 34  45]\n",
      " [ 39  98]\n",
      " [ 30  14]\n",
      " [ 34 109]\n",
      " [ 58  41]\n",
      " [ 39  83]\n",
      " [ 41  25]\n",
      " [ 41 101]\n",
      " [ 52  20]\n",
      " [ 47  99]\n",
      " [ 53  23]\n",
      " [ 46  86]\n",
      " [ 57  18]\n",
      " [ 33 100]\n",
      " [ 45   2]\n",
      " [ 36  88]\n",
      " [ 41   2]\n",
      " [ 36  82]\n",
      " [ 68  40]\n",
      " [ 35  93]\n",
      " [ 23   6]\n",
      " [ 38 105]\n",
      " [ 60  30]\n",
      " [ 44  84]\n",
      " [ 51  23]\n",
      " [ 40 107]\n",
      " [ 44  31]\n",
      " [ 39  71]\n",
      " [ 48  15]\n",
      " [ 34  84]\n",
      " [ 44  12]\n",
      " [ 44 104]\n",
      " [ 63  15]\n",
      " [ 36  97]\n",
      " [ 70  17]\n",
      " [ 33  78]\n",
      " [ 71  16]\n",
      " [ 42 101]\n",
      " [ 45  36]\n",
      " [ 39  97]\n",
      " [ 56  17]\n",
      " [ 35  99]\n",
      " [ 50  44]\n",
      " [ 36 109]\n",
      " [ 65  27]\n",
      " [ 34  77]\n",
      " [ 50  20]\n",
      " [ 44  96]\n",
      " [ 41  26]\n",
      " [ 39  78]\n",
      " [ 40   9]\n",
      " [ 46 102]\n",
      " [ 57  18]\n",
      " [ 42  89]\n",
      " [ 54  32]\n",
      " [ 39  83]\n",
      " [ 39  21]\n",
      " [ 36  93]]\n"
     ]
    }
   ],
   "source": [
    "print(Y)"
   ]
  },
  {
   "cell_type": "markdown",
   "metadata": {},
   "source": [
    "## Optimal number of cluster via Elbow Method for Age & Rating"
   ]
  },
  {
   "cell_type": "code",
   "execution_count": 19,
   "metadata": {},
   "outputs": [
    {
     "name": "stderr",
     "output_type": "stream",
     "text": [
      "C:\\Users\\harsh\\anaconda3\\lib\\site-packages\\sklearn\\cluster\\_kmeans.py:881: UserWarning: KMeans is known to have a memory leak on Windows with MKL, when there are less chunks than available threads. You can avoid it by setting the environment variable OMP_NUM_THREADS=1.\n",
      "  warnings.warn(\n"
     ]
    },
    {
     "data": {
      "text/plain": [
       "[222052.5499999999,\n",
       " 99753.02710997446,\n",
       " 63231.50233596191,\n",
       " 37917.09057387256,\n",
       " 31690.202136293097,\n",
       " 26011.38842221079,\n",
       " 20718.25966773335,\n",
       " 17475.609672637896,\n",
       " 15475.134946581198,\n",
       " 13645.066007187259]"
      ]
     },
     "execution_count": 19,
     "metadata": {},
     "output_type": "execute_result"
    }
   ],
   "source": [
    "wcss = []\n",
    "\n",
    "for i in range(1,11):\n",
    "  kmeans= KMeans(n_clusters= i, init= 'k-means++', random_state = 21)\n",
    "  kmeans.fit(Y)\n",
    "  wcss.append(kmeans.inertia_)\n",
    "wcss"
   ]
  },
  {
   "cell_type": "code",
   "execution_count": 20,
   "metadata": {},
   "outputs": [
    {
     "data": {
      "image/png": "[encoded data removed]",
      "text/plain": [
       "<Figure size 432x288 with 1 Axes>"
      ]
     },
     "metadata": {},
     "output_type": "display_data"
    }
   ],
   "source": [
    "plt.plot(range(1,11), wcss)\n",
    "plt.title('WCSS via Elbow method')\n",
    "plt.xlabel('Number of clusters')\n",
    "plt.ylabel('WCSS Value')\n",
    "\n",
    "plt.show()"
   ]
  },
  {
   "cell_type": "markdown",
   "metadata": {},
   "source": [
    "## Kmean model training"
   ]
  },
  {
   "cell_type": "code",
   "execution_count": 21,
   "metadata": {},
   "outputs": [
    {
     "data": {
      "text/plain": [
       "array([3, 2, 1, 2, 3, 2, 1, 2, 1, 2, 1, 2, 1, 2, 1, 2, 3, 3, 1, 2, 3, 2,\n",
       "       1, 2, 1, 2, 1, 3, 1, 2, 1, 2, 1, 2, 1, 2, 1, 2, 1, 2, 0, 2, 0, 3,\n",
       "       1, 3, 0, 3, 3, 3, 0, 3, 3, 0, 0, 0, 0, 0, 3, 0, 0, 3, 0, 0, 0, 3,\n",
       "       0, 0, 3, 3, 0, 0, 0, 0, 0, 3, 0, 3, 3, 0, 0, 3, 0, 0, 3, 0, 0, 3,\n",
       "       3, 0, 0, 3, 0, 3, 3, 3, 0, 3, 0, 3, 3, 0, 0, 3, 0, 3, 0, 0, 0, 0,\n",
       "       0, 3, 3, 3, 3, 3, 0, 0, 0, 0, 3, 3, 3, 2, 3, 2, 0, 2, 1, 2, 1, 2,\n",
       "       3, 2, 1, 2, 1, 2, 1, 2, 1, 2, 3, 2, 1, 2, 0, 2, 1, 2, 1, 2, 1, 2,\n",
       "       1, 2, 1, 2, 1, 2, 0, 2, 1, 2, 1, 2, 1, 2, 1, 3, 1, 2, 1, 2, 1, 2,\n",
       "       1, 2, 1, 2, 1, 2, 1, 2, 0, 2, 1, 2, 1, 2, 1, 2, 1, 2, 1, 2, 1, 2,\n",
       "       1, 2])"
      ]
     },
     "execution_count": 21,
     "metadata": {},
     "output_type": "execute_result"
    }
   ],
   "source": [
    "kmeans = KMeans(n_clusters = 4, init = 'k-means++', random_state = 42)\n",
    "x_means = kmeans.fit_predict(Y)\n",
    "x_means"
   ]
  },
  {
   "cell_type": "markdown",
   "metadata": {},
   "source": [
    "## Visualizing Clusters for Age & Rating"
   ]
  },
  {
   "cell_type": "code",
   "execution_count": 23,
   "metadata": {
    "scrolled": true
   },
   "outputs": [
    {
     "data": {
      "image/png": "[encoded data removed]",
      "text/plain": [
       "<Figure size 432x288 with 1 Axes>"
      ]
     },
     "metadata": {},
     "output_type": "display_data"
    }
   ],
   "source": [
    "plt.scatter(Y[x_means == 0, 0], Y[x_means == 0, 1], s = 100, c = 'magenta', label = 'Cluster 1')\n",
    "plt.scatter(Y[x_means == 1, 0], Y[x_means == 1, 1], s = 100, c = 'blue', label = 'Cluster 2')\n",
    "plt.scatter(Y[x_means == 2, 0], Y[x_means == 2, 1], s = 100, c = 'red', label = 'Cluster 3')\n",
    "plt.scatter(Y[x_means == 3, 0], Y[x_means == 3, 1], s = 100, c = 'cyan', label = 'Cluster 4')\n",
    "plt.scatter(kmeans.cluster_centers_[:, 0], kmeans.cluster_centers_[:, 1], s = 300, c = 'black', label = 'Centroids')\n",
    "plt.title('Cluster of Amazon users')\n",
    "plt.xlabel('Age')\n",
    "plt.ylabel('Purchase Rating')\n",
    "plt.legend()\n",
    "plt.show()"
   ]
  },
  {
   "cell_type": "markdown",
   "metadata": {},
   "source": [
    "## Conclusions"
   ]
  },
  {
   "cell_type": "markdown",
   "metadata": {},
   "source": [
    "K means clustering is one of the most prominent clustering methods, and it's generally the first thing people do when they're working on a clustering problem to get a sense of the dataset's structure. K means are used to divide data points into separate, non-overlapping groupings. One of the most common uses of K means clustering is customer segmentation in order to gain a better knowledge of them, which can then be utilised to boost the company's income."
   ]
  }
 ],
 "metadata": {
  "colab": {
   "authorship_tag": "ABX9TyOt6xk9UMd/GwWEPGvvxJZv",
   "name": "Data Preprocessing Working Copy.ipynb",
   "provenance": [
    {
     "file_id": "1nEGJqEW-_F3aMMXY1s0E28eyody3vwoT",
     "timestamp": 1611144461754
    }
   ],
   "toc_visible": true
  },
  "kernelspec": {
   "display_name": "Python 3",
   "language": "python",
   "name": "python3"
  },
  "language_info": {
   "codemirror_mode": {
    "name": "ipython",
    "version": 3
   },
   "file_extension": ".py",
   "mimetype": "text/x-python",
   "name": "python",
   "nbconvert_exporter": "python",
   "pygments_lexer": "ipython3",
   "version": "3.8.8"
  }
 },
 "nbformat": 4,
 "nbformat_minor": 1
}
